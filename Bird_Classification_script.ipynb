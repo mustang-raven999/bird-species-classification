{
  "cells": [
    {
      "cell_type": "code",
      "execution_count": null,
      "metadata": {
        "id": "wXlCT2NvsmdI"
      },
      "outputs": [],
      "source": [
        "import zipfile\n",
        "import os\n",
        "import shutil\n",
        "from google.colab import drive\n",
        "from tensorflow.keras.preprocessing.image import ImageDataGenerator\n",
        "import cv2\n",
        "import numpy as np\n",
        "from keras.applications.vgg16 import VGG16 , preprocess_input\n",
        "from tensorflow.keras.applications.inception_v3 import InceptionV3\n",
        "import tensorflow as tf\n",
        "\n"
      ]
    },
    {
      "cell_type": "code",
      "execution_count": null,
      "metadata": {
        "id": "FYI-kYu_Gr66"
      },
      "outputs": [],
      "source": [
        "import numpy as np\n",
        "import pandas as pd\n",
        "import seaborn as sns\n",
        "from tqdm import tqdm\n",
        "import tensorflow as tf\n",
        "from keras import backend as k\n",
        "import matplotlib.pyplot as plt\n",
        "from tensorflow.keras.preprocessing import image\n",
        "from tensorflow.keras.models import Model, load_model\n",
        "from tensorflow.keras.preprocessing.image import ImageDataGenerator\n",
        "from keras.applications.vgg16 import VGG16 , preprocess_input\n",
        "from tensorflow.keras.applications import ResNet101\n",
        "from tensorflow.keras.layers import Dense, Input, Conv2D, Dropout, Flatten, Activation, BatchNormalization, Dropout, GlobalAveragePooling2D, MaxPooling2D\n",
        "from tensorflow.keras.models import Model\n",
        "from keras.callbacks import Callback, ModelCheckpoint\n",
        "from tensorflow.keras.utils import to_categorical\n",
        "from tensorflow.keras.callbacks import EarlyStopping\n",
        "from tensorflow.keras import Sequential\n",
        "from tensorflow.keras.optimizers import SGD, Adam\n",
        "from tqdm import tqdm\n",
        "from tensorflow.keras.applications.inception_v3 import InceptionV3\n",
        "from tensorflow.keras.applications.efficientnet import EfficientNetB0\n",
        "from tensorflow.keras.applications import Xception\n",
        "import cv2\n",
        "from sklearn.metrics import confusion_matrix, precision_score, recall_score, f1_score, accuracy_score\n",
        "import glob\n",
        "import random"
      ]
    },
    {
      "cell_type": "code",
      "execution_count": null,
      "metadata": {
        "id": "GuTF2wLyHM0I"
      },
      "outputs": [],
      "source": [
        "np.random.seed(99) \n"
      ]
    },
    {
      "cell_type": "code",
      "execution_count": null,
      "metadata": {
        "colab": {
          "base_uri": "https://localhost:8080/"
        },
        "id": "k-gB7HMq_q0b",
        "outputId": "933689b8-d4ae-48a7-ec6c-a27a1593159d"
      },
      "outputs": [
        {
          "output_type": "stream",
          "name": "stdout",
          "text": [
            "Mounted at /content/drive/\n"
          ]
        }
      ],
      "source": [
        "drive.mount('/content/drive/')"
      ]
    },
    {
      "cell_type": "code",
      "execution_count": null,
      "metadata": {
        "id": "-ytyUTehtGdK"
      },
      "outputs": [],
      "source": [
        "drive_zip_file = \"/content/drive/My Drive/bird_classification/bird_CUB_200_2011.zip\"\n",
        "\n",
        "extract_path = \"/content/bird_data\"\n",
        "\n",
        "with zipfile.ZipFile(drive_zip_file, 'r') as zip_obj:\n",
        "    # extract all the contents of the zip file to the specified directory\n",
        "    zip_obj.extractall(extract_path)"
      ]
    },
    {
      "cell_type": "code",
      "execution_count": null,
      "metadata": {
        "colab": {
          "base_uri": "https://localhost:8080/"
        },
        "id": "JRrXncviuGAc",
        "outputId": "e3348e0f-7b79-4956-d781-e19f94663c9c"
      },
      "outputs": [
        {
          "output_type": "stream",
          "name": "stdout",
          "text": [
            "11801\n"
          ]
        }
      ],
      "source": [
        "file_count = sum([len(files) for r, d, files in os.walk(\"/content/bird_data\")])\n",
        "print(file_count)"
      ]
    },
    {
      "cell_type": "code",
      "execution_count": null,
      "metadata": {
        "id": "2nbb3YASuQYu"
      },
      "outputs": [],
      "source": [
        "# open the file in read mode\n",
        "# file_image = open('/content/bird_data/CUB_200_2011/images.txt', 'r')\n",
        "# file_split = open('/content/bird_data/CUB_200_2011/train_test_split.txt', 'r')\n",
        "# file_class = open('/content/bird_data/CUB_200_2011/image_class_labels.txt', 'r')\n",
        "\n",
        "file_image = '/content/bird_data/CUB_200_2011/images.txt'\n",
        "file_split = '/content/bird_data/CUB_200_2011/train_test_split.txt'\n",
        "file_class = '/content/bird_data/CUB_200_2011/image_class_labels.txt'\n",
        "\n",
        "# # read the contents of the file\n",
        "# contents1 = file_image.read()\n",
        "# #file_image.close()\n",
        "\n",
        "# contents2 = file_split.read()\n",
        "# #file_split.close()\n",
        "\n",
        "# contents3 = file_class.read()\n",
        "# #file_class.close()\n",
        "\n",
        "# #print(contents1)"
      ]
    },
    {
      "cell_type": "code",
      "execution_count": null,
      "metadata": {
        "id": "HQzDS_Cb0Je8"
      },
      "outputs": [],
      "source": [
        "# # specify the directory path where your image files are stored\n",
        "# dir_path = \"/content/bird_data/CUB_200_2011/images\"\n",
        "\n",
        "# # iterate over each subdirectory and its files\n",
        "# for root, dirs, files in os.walk(dir_path):\n",
        "#     for file in files:\n",
        "#       # do something with the image file, such as displaying it or processing it\n",
        "#       print(\"Processing image file:\", os.path.join(root, file))"
      ]
    },
    {
      "cell_type": "code",
      "execution_count": null,
      "metadata": {
        "colab": {
          "base_uri": "https://localhost:8080/"
        },
        "id": "I9GPmZAi4CM9",
        "outputId": "a2596d96-5260-497f-d295-9a079ce4beb3"
      },
      "outputs": [
        {
          "output_type": "stream",
          "name": "stdout",
          "text": [
            "Folder and subfolders created: /content/bird_data/bird_split_dataset\n"
          ]
        }
      ],
      "source": [
        "# specify the path to the directory where you want to create the folders\n",
        "dir_path = \"/content/bird_data\"\n",
        "\n",
        "# specify the names of the folders you want to create\n",
        "folder_name = \"bird_split_dataset\"\n",
        "subfolder1_name = \"train\"\n",
        "subfolder2_name = \"test\"\n",
        "\n",
        "# join the directory path and folder names\n",
        "folder_path = os.path.join(dir_path, folder_name)\n",
        "subfolder1_path = os.path.join(folder_path, subfolder1_name)\n",
        "subfolder2_path = os.path.join(folder_path, subfolder2_name)\n",
        "\n",
        "# check if the folders exist, and create them if they don't\n",
        "if not os.path.exists(folder_path):\n",
        "    os.makedirs(subfolder1_path)\n",
        "    os.makedirs(subfolder2_path)\n",
        "    print(\"Folder and subfolders created:\", folder_path)\n",
        "else:\n",
        "    print(\"Folder and subfolders already exist:\", folder_path)"
      ]
    },
    {
      "cell_type": "code",
      "execution_count": null,
      "metadata": {
        "colab": {
          "base_uri": "https://localhost:8080/"
        },
        "id": "T2QblYCi8OgJ",
        "outputId": "c1e215c5-b6e9-4865-b490-18f95072cd59"
      },
      "outputs": [
        {
          "output_type": "stream",
          "name": "stdout",
          "text": [
            "Moved 5794 images to test directory\n",
            "Moved 5994 images to train directory\n"
          ]
        }
      ],
      "source": [
        "root_dir_path = \"/content/bird_data/CUB_200_2011/images\"\n",
        "\n",
        "test_count = 0\n",
        "train_count = 0\n",
        "\n",
        "with open(file_image,'r') as image_info:\n",
        "  with open(file_split,'r') as split_data:\n",
        "    \n",
        "    for read_img, read_split in zip(image_info, split_data):\n",
        "      read_img = read_img.strip().split(' ')\n",
        "      read_split = read_split.strip().split(' ')\n",
        "      sub_dir=read_img[1].split('/')\n",
        "\n",
        "      if read_img[0] == read_split[0]:\n",
        "        if read_split[1] == '0':\n",
        "          subfolder_path=os.path.join('/content/bird_data/bird_split_dataset/test',sub_dir[0])\n",
        "          \n",
        "          if not os.path.exists(subfolder_path):\n",
        "            os.makedirs(subfolder_path)\n",
        "          \n",
        "          path = os.path.join(root_dir_path, read_img[1])\n",
        "          dest_path = os.path.join(subfolder_path, os.path.basename(path))\n",
        "          shutil.move(path, dest_path)\n",
        "          test_count += 1\n",
        "        \n",
        "        elif read_split[1] == '1':\n",
        "          subfolder_path=os.path.join('/content/bird_data/bird_split_dataset/train',sub_dir[0])\n",
        "          \n",
        "          if not os.path.exists(subfolder_path):\n",
        "            os.makedirs(subfolder_path)\n",
        "\n",
        "          path = os.path.join(root_dir_path, read_img[1])\n",
        "          dest_path = os.path.join(subfolder_path, os.path.basename(path))\n",
        "          shutil.move(path, dest_path)\n",
        "          train_count += 1\n",
        "\n",
        "print(f\"Moved {test_count} images to test directory\")\n",
        "print(f\"Moved {train_count} images to train directory\")"
      ]
    },
    {
      "cell_type": "code",
      "execution_count": null,
      "metadata": {
        "id": "z2WlcXHxP3PR"
      },
      "outputs": [],
      "source": [
        "BATCH_SIZE = 32\n",
        "EPOCHS = 20\n",
        "INPUT_SIZE = [224, 224]"
      ]
    },
    {
      "cell_type": "code",
      "execution_count": null,
      "metadata": {
        "colab": {
          "base_uri": "https://localhost:8080/"
        },
        "id": "PcXsOswB6l9o",
        "outputId": "b6626805-ef3d-46df-abe8-9c7b49cc908e"
      },
      "outputs": [
        {
          "output_type": "stream",
          "name": "stdout",
          "text": [
            "Found 4800 images belonging to 200 classes.\n",
            "Found 1194 images belonging to 200 classes.\n",
            "Found 5794 images belonging to 200 classes.\n",
            "***Train image count = *** 4800\n",
            "Training set:\n",
            "Number of batches = 150\n",
            "Number of images = 4800\n",
            "\n",
            "Validation set:\n",
            "Number of batches = 38\n",
            "Number of images = 1194\n",
            "\n",
            "Test set:\n",
            "Number of batches = 182\n",
            "Number of images = 5794\n"
          ]
        }
      ],
      "source": [
        "data_path = '/content/bird_data/bird_split_dataset/'\n",
        "\n",
        "# Create an ImageDataGenerator object for data augmentation\n",
        "train_datagen = ImageDataGenerator(shear_range=0.1, \n",
        "                                  zoom_range=0.1, \n",
        "                                  horizontal_flip=True, \n",
        "                                  vertical_flip = True,\n",
        "    \n",
        "                                  validation_split=0.2  # split the data into training and validation sets\n",
        ")\n",
        "\n",
        "# Create a data generator for the training set\n",
        "train_generator = train_datagen.flow_from_directory(\n",
        "    '/content/bird_data/bird_split_dataset/train',\n",
        "    target_size=INPUT_SIZE,\n",
        "    batch_size=BATCH_SIZE,\n",
        "    seed = 99,\n",
        "    shuffle = True,\n",
        "    class_mode='categorical',\n",
        "    subset='training'  # use the training subset of the data\n",
        ")\n",
        "\n",
        "# Create a data generator for the validation set\n",
        "validation_generator = train_datagen.flow_from_directory(\n",
        "    '/content/bird_data/bird_split_dataset/train',\n",
        "    target_size=INPUT_SIZE,\n",
        "    batch_size=BATCH_SIZE,\n",
        "    seed = 99,\n",
        "    shuffle = False,\n",
        "    class_mode='categorical',\n",
        "    subset='validation'  # use the validation subset of the data\n",
        ")\n",
        "\n",
        "# Create a data generator for the test set\n",
        "test_datagen = ImageDataGenerator(rescale=1./255)\n",
        "\n",
        "test_generator = test_datagen.flow_from_directory('/content/bird_data/bird_split_dataset/test',\n",
        "    target_size=INPUT_SIZE,\n",
        "    batch_size=BATCH_SIZE,\n",
        "    seed = 99,\n",
        "    class_mode='categorical',\n",
        "    shuffle=False  # don't shuffle the data for evaluation\n",
        ")\n",
        "\n",
        "train_images = len(train_generator.filenames)\n",
        "print(f'***Train image count = ***', train_images)\n",
        "\n",
        "# print some summary information about the generators\n",
        "print(\"Training set:\")\n",
        "print(\"Number of batches =\", len(train_generator))\n",
        "print(\"Number of images =\", len(train_generator.filenames))\n",
        "print()\n",
        "\n",
        "print(\"Validation set:\")\n",
        "print(\"Number of batches =\", len(validation_generator))\n",
        "print(\"Number of images =\", len(validation_generator.filenames))\n",
        "print()\n",
        "\n",
        "print(\"Test set:\")\n",
        "print(\"Number of batches =\", len(test_generator))\n",
        "print(\"Number of images =\", len(test_generator.filenames))"
      ]
    },
    {
      "cell_type": "code",
      "execution_count": null,
      "metadata": {
        "id": "kEWWSWHy_ck3"
      },
      "outputs": [],
      "source": [
        "# img = cv2.imread(f\"/content/bird_data/bird_split_dataset/train{[99]}\")\n",
        "# #plt.imshow(img)"
      ]
    },
    {
      "cell_type": "code",
      "execution_count": null,
      "metadata": {
        "id": "i1NBpD9iMDkS"
      },
      "outputs": [],
      "source": [
        "input_shape = INPUT_SIZE+[3]\n",
        "input = Input(shape=input_shape)"
      ]
    },
    {
      "cell_type": "code",
      "execution_count": null,
      "metadata": {
        "id": "NmBOijQ2Gbbz"
      },
      "outputs": [],
      "source": [
        "# network architecture...\n",
        "def network(base_model, input):\n",
        "    \n",
        "    # Removes the values in the graph(network connections) but do not delete the graph itself... helps in RAM cleaning...\n",
        "    tf.keras.backend.clear_session() \n",
        "\n",
        "    # Making Base model layers as non-trainable...\n",
        "    for i in base_model.layers[:-15]:\n",
        "        i.trainable=True\n",
        "\n",
        "    input_layer = base_model(input, training=False)\n",
        "    \n",
        "    model = Sequential()\n",
        "    model.add(base_model)\n",
        "    model.add(Flatten())\n",
        "\n",
        "    model.add(Dropout(0.5))\n",
        "    model.add(Dense(256, activation = 'relu'))\n",
        "    model.add(Activation('relu'))\n",
        "    model.add(Dense(200)) \n",
        "    model.add(Activation('softmax'))\n",
        "    \n",
        "    return model"
      ]
    },
    {
      "cell_type": "code",
      "execution_count": null,
      "metadata": {
        "colab": {
          "base_uri": "https://localhost:8080/"
        },
        "id": "TJ9KYNqnJM8t",
        "outputId": "526481bf-a412-45a2-a8b1-98faeb5573cc"
      },
      "outputs": [
        {
          "output_type": "stream",
          "name": "stdout",
          "text": [
            "5400\n"
          ]
        }
      ],
      "source": [
        "print(train_images)"
      ]
    },
    {
      "cell_type": "code",
      "execution_count": null,
      "metadata": {
        "id": "AXZHZcBqFeEk"
      },
      "outputs": [],
      "source": [
        "# Loading weights of the InceptionV3 pre-trained model without including top layers... \n",
        "# imagenet is a dataset on which InceptionV3 was trained...\n",
        "inception_model = InceptionV3(input_tensor = input, include_top=False, weights=\"imagenet\")\n",
        "\n",
        "incepV3_model = network(inception_model, input)\n",
        "\n",
        "from keras.callbacks import LearningRateScheduler\n",
        "from keras.optimizers import Adam\n",
        "import math\n",
        "def lr_schedule(epoch):\n",
        "    lr = 0.1\n",
        "    if epoch > 6:\n",
        "        lr *= 0.1\n",
        "    return lr\n",
        "\n",
        "lr_scheduler = LearningRateScheduler(lr_schedule)\n",
        "\n",
        "\n",
        "adam = Adam(lr=0.0001) # ADAM optimizer was used to reach the optimal weights...\n",
        "incepV3_model.compile(optimizer=adam, loss='categorical_crossentropy', metrics=['accuracy']) #, tfa.metrics.F1Score(200)])\n",
        "\n",
        "from tensorflow.keras.callbacks import EarlyStopping\n",
        "\n",
        "early_stop = EarlyStopping(monitor='val_loss', patience=6, restore_best_weights=True)\n",
        "\n"
      ]
    },
    {
      "cell_type": "code",
      "execution_count": null,
      "metadata": {
        "colab": {
          "base_uri": "https://localhost:8080/"
        },
        "id": "QLupSEbBR4ZV",
        "outputId": "b5e3fa84-18b9-46be-d2f4-e32f8cd17043"
      },
      "outputs": [
        {
          "output_type": "stream",
          "name": "stdout",
          "text": [
            "Model: \"sequential\"\n",
            "_________________________________________________________________\n",
            " Layer (type)                Output Shape              Param #   \n",
            "=================================================================\n",
            " inception_v3 (Functional)   (None, 5, 5, 2048)        21802784  \n",
            "                                                                 \n",
            " flatten (Flatten)           (None, 51200)             0         \n",
            "                                                                 \n",
            " dropout (Dropout)           (None, 51200)             0         \n",
            "                                                                 \n",
            " dense (Dense)               (None, 256)               13107456  \n",
            "                                                                 \n",
            " activation (Activation)     (None, 256)               0         \n",
            "                                                                 \n",
            " dense_1 (Dense)             (None, 200)               51400     \n",
            "                                                                 \n",
            " activation_1 (Activation)   (None, 200)               0         \n",
            "                                                                 \n",
            "=================================================================\n",
            "Total params: 34,961,640\n",
            "Trainable params: 34,927,208\n",
            "Non-trainable params: 34,432\n",
            "_________________________________________________________________\n"
          ]
        }
      ],
      "source": [
        "incepV3_model.summary()"
      ]
    },
    {
      "cell_type": "code",
      "execution_count": null,
      "metadata": {
        "id": "ZLSi5hbVR3Mq"
      },
      "outputs": [],
      "source": [
        "# Fitting/training model...\n",
        "incepV3_model.history = incepV3_model.fit(\n",
        "    train_generator, \n",
        "    steps_per_epoch = train_images / 32, # number of steps in each epoch...\n",
        "    callbacks=[ModelCheckpoint(filepath=\"/content/drive/MyDrive/language_model/model_weights_bestbirdfinal_diff2.h5\", verbose=2, save_best_only=True), early_stop],\n",
        "    epochs = 50, \n",
        "    validation_data = validation_generator)"
      ]
    },
    {
      "cell_type": "code",
      "source": [
        "# Loading weights of the InceptionV3 pre-trained model without including top layers... \n",
        "# imagenet is a dataset on which InceptionV3 was trained...\n",
        "Xception_model = Xception(input_tensor = input, include_top=False, weights=\"imagenet\")\n",
        "\n",
        "Xcep_model = network(Xception_model, input)\n",
        "\n",
        "from keras.callbacks import LearningRateScheduler\n",
        "from keras.optimizers import Adam\n",
        "import math\n",
        "def lr_schedule(epoch):\n",
        "    lr = 0.1\n",
        "    if epoch > 5:\n",
        "        lr *= 0.1\n",
        "    return lr\n",
        "\n",
        "lr_scheduler = LearningRateScheduler(lr_schedule)\n",
        "\n",
        "\n",
        "adam = Adam(lr=0.0001) # ADAM optimizer was used to reach the optimal weights...\n",
        "Xcep_model.compile(optimizer=adam, loss='categorical_crossentropy', metrics=['accuracy']) #, tfa.metrics.F1Score(200)])\n",
        "\n",
        "from tensorflow.keras.callbacks import EarlyStopping\n",
        "\n",
        "early_stop = EarlyStopping(monitor='val_loss', patience=6, restore_best_weights=True)\n",
        "\n"
      ],
      "metadata": {
        "id": "GA5QZeMkIUTO"
      },
      "execution_count": null,
      "outputs": []
    },
    {
      "cell_type": "code",
      "source": [
        "# Fitting/training model...\n",
        "Xcep_model.history = Xcep_model.fit(\n",
        "    train_generator, \n",
        "    steps_per_epoch = train_images / 32, # number of steps in each epoch...\n",
        "    callbacks=[ModelCheckpoint(filepath=\"/content/drive/MyDrive/language_model/model_weights_bestbirdfinal_diff3.h5\", verbose=2, save_best_only=True), early_stop],\n",
        "    epochs = 50, \n",
        "    validation_data = validation_generator)"
      ],
      "metadata": {
        "colab": {
          "base_uri": "https://localhost:8080/"
        },
        "id": "bxunz7_YIkAC",
        "outputId": "75a4f574-b7d3-43f7-9bef-eba7a5db4bd6"
      },
      "execution_count": null,
      "outputs": [
        {
          "output_type": "stream",
          "name": "stdout",
          "text": [
            "Epoch 1/50\n",
            "169/168 [==============================] - ETA: 0s - loss: 4.4041 - accuracy: 0.1343\n",
            "Epoch 1: val_loss improved from inf to 2.76163, saving model to /content/drive/MyDrive/language_model/model_weights_bestbirdfinal_diff3.h5\n",
            "168/168 [==============================] - 41s 207ms/step - loss: 4.4041 - accuracy: 0.1343 - val_loss: 2.7616 - val_accuracy: 0.3586\n",
            "Epoch 2/50\n",
            "169/168 [==============================] - ETA: 0s - loss: 1.4811 - accuracy: 0.6226\n",
            "Epoch 2: val_loss improved from 2.76163 to 1.94536, saving model to /content/drive/MyDrive/language_model/model_weights_bestbirdfinal_diff3.h5\n",
            "168/168 [==============================] - 36s 211ms/step - loss: 1.4811 - accuracy: 0.6226 - val_loss: 1.9454 - val_accuracy: 0.5135\n",
            "Epoch 3/50\n",
            "169/168 [==============================] - ETA: 0s - loss: 0.3042 - accuracy: 0.9222\n",
            "Epoch 3: val_loss improved from 1.94536 to 1.91071, saving model to /content/drive/MyDrive/language_model/model_weights_bestbirdfinal_diff3.h5\n",
            "168/168 [==============================] - 36s 214ms/step - loss: 0.3042 - accuracy: 0.9222 - val_loss: 1.9107 - val_accuracy: 0.5455\n",
            "Epoch 4/50\n",
            "169/168 [==============================] - ETA: 0s - loss: 0.0720 - accuracy: 0.9837\n",
            "Epoch 4: val_loss improved from 1.91071 to 1.84093, saving model to /content/drive/MyDrive/language_model/model_weights_bestbirdfinal_diff3.h5\n",
            "168/168 [==============================] - 36s 212ms/step - loss: 0.0720 - accuracy: 0.9837 - val_loss: 1.8409 - val_accuracy: 0.5438\n",
            "Epoch 5/50\n",
            "169/168 [==============================] - ETA: 0s - loss: 0.0228 - accuracy: 0.9978\n",
            "Epoch 5: val_loss improved from 1.84093 to 1.78342, saving model to /content/drive/MyDrive/language_model/model_weights_bestbirdfinal_diff3.h5\n",
            "168/168 [==============================] - 36s 212ms/step - loss: 0.0228 - accuracy: 0.9978 - val_loss: 1.7834 - val_accuracy: 0.5859\n",
            "Epoch 6/50\n",
            "169/168 [==============================] - ETA: 0s - loss: 0.0145 - accuracy: 0.9980\n",
            "Epoch 6: val_loss did not improve from 1.78342\n",
            "168/168 [==============================] - 31s 184ms/step - loss: 0.0145 - accuracy: 0.9980 - val_loss: 1.8200 - val_accuracy: 0.5875\n",
            "Epoch 7/50\n",
            "169/168 [==============================] - ETA: 0s - loss: 0.0072 - accuracy: 0.9998\n",
            "Epoch 7: val_loss did not improve from 1.78342\n",
            "168/168 [==============================] - 31s 182ms/step - loss: 0.0072 - accuracy: 0.9998 - val_loss: 1.8375 - val_accuracy: 0.5993\n",
            "Epoch 8/50\n",
            "169/168 [==============================] - ETA: 0s - loss: 0.0054 - accuracy: 0.9994\n",
            "Epoch 8: val_loss did not improve from 1.78342\n",
            "168/168 [==============================] - 31s 182ms/step - loss: 0.0054 - accuracy: 0.9994 - val_loss: 1.9011 - val_accuracy: 0.5976\n",
            "Epoch 9/50\n",
            "169/168 [==============================] - ETA: 0s - loss: 0.0140 - accuracy: 0.9972\n",
            "Epoch 9: val_loss did not improve from 1.78342\n",
            "168/168 [==============================] - 31s 182ms/step - loss: 0.0140 - accuracy: 0.9972 - val_loss: 1.8770 - val_accuracy: 0.5960\n",
            "Epoch 10/50\n",
            "169/168 [==============================] - ETA: 0s - loss: 0.0091 - accuracy: 0.9989\n",
            "Epoch 10: val_loss did not improve from 1.78342\n",
            "168/168 [==============================] - 31s 182ms/step - loss: 0.0091 - accuracy: 0.9989 - val_loss: 1.9440 - val_accuracy: 0.5960\n",
            "Epoch 11/50\n",
            "169/168 [==============================] - ETA: 0s - loss: 0.0070 - accuracy: 0.9987\n",
            "Epoch 11: val_loss did not improve from 1.78342\n",
            "168/168 [==============================] - 31s 182ms/step - loss: 0.0070 - accuracy: 0.9987 - val_loss: 1.8985 - val_accuracy: 0.5976\n"
          ]
        }
      ]
    },
    {
      "cell_type": "code",
      "source": [
        "resnet_model = ResNet101(input_tensor = input, include_top=False, weights=\"imagenet\")\n",
        "\n",
        "res_model = network(resnet_model, input)\n",
        "\n",
        "adam = Adam(learning_rate=0.0001) # ADAM optimizer was used to reach the optimal weights...\n",
        "res_model.compile(optimizer=adam, loss='categorical_crossentropy', metrics=['accuracy']) #, tfa.metrics.F1Score(375)])\n",
        "\n",
        "\n",
        "# Fitting/training model...\n",
        "res_history = res_model.fit(\n",
        "    train_generator, \n",
        "    steps_per_epoch = train_images / 32, # number of steps in each epoch...\n",
        "    callbacks=[ModelCheckpoint(filepath=\"/content/drive/MyDrive/language_model/model_weights_bestbirdfinal_diff4.h5\", verbose=2, save_best_only=True), early_stop],\n",
        "    epochs = 50, \n",
        "    validation_data = validation_generator)"
      ],
      "metadata": {
        "id": "icFpITDcJnqd"
      },
      "execution_count": null,
      "outputs": []
    },
    {
      "cell_type": "markdown",
      "source": [
        "###**MODEL EVALUATION**"
      ],
      "metadata": {
        "id": "oSwwiRVDe4QD"
      }
    },
    {
      "cell_type": "code",
      "source": [
        "# load the saved model\n",
        "incepV3_model = load_model('/content/drive/MyDrive/bird_classification/birdv3.h5')\n",
        "incepV3_model_results = incepV3_model.evaluate(test_generator)"
      ],
      "metadata": {
        "colab": {
          "base_uri": "https://localhost:8080/"
        },
        "id": "szPDrUR2kR2r",
        "outputId": "e1c2c321-741a-4f55-da00-3fa18b7c8f69"
      },
      "execution_count": null,
      "outputs": [
        {
          "output_type": "stream",
          "name": "stdout",
          "text": [
            "182/182 [==============================] - 31s 165ms/step - loss: 1.9944 - accuracy: 0.6369\n"
          ]
        }
      ]
    },
    {
      "cell_type": "code",
      "source": [
        "y_pred = incepV3_model.predict(test_generator)\n",
        "y_pred = np.argmax(y_pred,axis=1)"
      ],
      "metadata": {
        "colab": {
          "base_uri": "https://localhost:8080/"
        },
        "id": "ASn7X6Ilj4EN",
        "outputId": "fcd60a71-64a4-4b4a-a310-19ff65188594"
      },
      "execution_count": null,
      "outputs": [
        {
          "output_type": "stream",
          "name": "stdout",
          "text": [
            "182/182 [==============================] - 31s 168ms/step\n"
          ]
        }
      ]
    },
    {
      "cell_type": "code",
      "source": [
        "accuracy = accuracy_score(test_generator.classes,y_pred)"
      ],
      "metadata": {
        "id": "a6YC7636kMtv"
      },
      "execution_count": null,
      "outputs": []
    },
    {
      "cell_type": "code",
      "source": [
        "print(accuracy)"
      ],
      "metadata": {
        "colab": {
          "base_uri": "https://localhost:8080/"
        },
        "id": "B_VbqL9KkPjm",
        "outputId": "c5fe97d1-2b7f-4372-bc36-b2e3f7f6d2f8"
      },
      "execution_count": null,
      "outputs": [
        {
          "output_type": "stream",
          "name": "stdout",
          "text": [
            "0.6368657231618916\n"
          ]
        }
      ]
    },
    {
      "cell_type": "code",
      "source": [
        "# finding the test accuracy\n",
        "accuracy = accuracy_score(test_generator.classes,y_pred)\n",
        "# calculating the f1 score\n",
        "f1_score_val = f1_score(test_generator.classes, y_pred, average='weighted')\n",
        "# calculating the precision\n",
        "precision_score_val = precision_score(test_generator.classes,y_pred,average='weighted')\n",
        "# calculating the recall_score\n",
        "recall_score_val = recall_score(test_generator.classes,y_pred,average='weighted')"
      ],
      "metadata": {
        "id": "sAgbhIREmZ-G"
      },
      "execution_count": null,
      "outputs": []
    },
    {
      "cell_type": "code",
      "source": [
        "confusion_mat = confusion_matrix(test_generator.classes, y_pred)\n"
      ],
      "metadata": {
        "id": "nwzo0ExOmcfi"
      },
      "execution_count": null,
      "outputs": []
    },
    {
      "cell_type": "code",
      "source": [
        "print(f'''Model Results:\\n \n",
        "      Accuracy: {round(accuracy,3)}\\n \n",
        "      F1 Score:{round(f1_score_val,3)}\\n \n",
        "      Precision Score: {round(precision_score_val,3)}\\n \n",
        "      Recall Score: {round(recall_score_val,3)}\\n''')\n",
        "\n",
        "plt.figure(figsize=(10,10))\n",
        "plt.imshow(confusion_mat, cmap='PuBu', interpolation='nearest')\n",
        "plt.title(\"Confusion Matrix - InceptionV3 Model\", fontsize = 20)\n",
        "plt.xlabel(\"Original Class\", fontsize = 15)\n",
        "plt.ylabel(\"Predicted Class\", fontsize = 15)\n",
        "plt.show()"
      ],
      "metadata": {
        "colab": {
          "base_uri": "https://localhost:8080/",
          "height": 813
        },
        "id": "00aMn2AOmfJD",
        "outputId": "8abeef22-e021-4189-90f7-0d0e71cc0690"
      },
      "execution_count": null,
      "outputs": [
        {
          "output_type": "stream",
          "name": "stdout",
          "text": [
            "Model Results:\n",
            " \n",
            "      Accuracy: 0.637\n",
            " \n",
            "      F1 Score:0.636\n",
            " \n",
            "      Precision Score: 0.673\n",
            " \n",
            "      Recall Score: 0.637\n",
            "\n"
          ]
        },
        {
          "output_type": "display_data",
          "data": {
            "text/plain": [
              "<Figure size 720x720 with 1 Axes>"
            ],
            "image/png": "[encoded data removed]"
          },
          "metadata": {
            "needs_background": "light"
          }
        }
      ]
    },
    {
      "cell_type": "code",
      "source": [],
      "metadata": {
        "id": "ES_uTF4Omflr"
      },
      "execution_count": null,
      "outputs": []
    }
  ],
  "metadata": {
    "colab": {
      "provenance": [],
      "machine_shape": "hm"
    },
    "gpuClass": "premium",
    "kernelspec": {
      "display_name": "Python 3",
      "name": "python3"
    },
    "language_info": {
      "name": "python"
    },
    "accelerator": "GPU"
  },
  "nbformat": 4,
  "nbformat_minor": 0
}